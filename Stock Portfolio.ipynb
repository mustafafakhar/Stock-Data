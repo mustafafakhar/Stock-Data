{
 "cells": [
  {
   "cell_type": "code",
   "execution_count": 1,
   "id": "f63ef2f7",
   "metadata": {},
   "outputs": [],
   "source": [
    "import numpy as np\n",
    "import pandas as pd\n",
    "from pandas_datareader import data as web\n",
    "import matplotlib.dates as mdates\n",
    "import matplotlib.pyplot as plt\n",
    "import yfinance as yf\n",
    "%matplotlib inline\n",
    "\n",
    "import datetime as dt\n",
    "import mplfinance as mpl\n",
    "\n",
    "import time\n",
    "import os\n",
    "from os import listdir\n",
    "from os.path import isfile, join\n",
    "import scipy\n",
    "import zarr\n",
    "import xarray \n"
   ]
  },
  {
   "cell_type": "code",
   "execution_count": 19,
   "id": "ee8bab36",
   "metadata": {},
   "outputs": [],
   "source": [
    "os.chdir('C:/Users/filza/Desktop/Testing')"
   ]
  },
  {
   "cell_type": "code",
   "execution_count": null,
   "id": "92f754fe",
   "metadata": {},
   "outputs": [],
   "source": []
  },
  {
   "cell_type": "code",
   "execution_count": 52,
   "id": "3d07bc11",
   "metadata": {},
   "outputs": [],
   "source": [
    "def get_info_on_stock(ticker):\n",
    "    stock = yf.Ticker(ticker)\n",
    "    hist = stock.history(period = 'max')\n",
    "    action = stock.actions\n",
    "    dividend = stock.dividends\n",
    "    financial = stock.financials\n",
    "    qtr_financials = stock.quarterly_financials\n",
    "    balance_sheet = stock.balance_sheet\n",
    "    qtr_balance_sheet = stock.quarterly_balance_sheet\n",
    "    cashflow = stock.cashflow\n",
    "    qtr_cashflow = stock.quarterly_cashflow\n",
    "    earnings = stock.earnings\n",
    "    upcoming_event = stock.calendar\n",
    "    major_stake_holders = stock.major_holders\n",
    "    institutional_holders = stock.institutional_holders\n",
    "    hist.to_csv(f\"{ticker}_hist.csv\")\n",
    "    action.to_csv(f\"{ticker}_action.csv\")\n",
    "    dividend.to_csv(f\"{ticker}_dividend.csv\")          \n",
    "    financial.to_csv(f\"{ticker}_financial.csv\")\n",
    "    qtr_financials.to_csv(f\"{ticker}_qtr_financials.csv\")\n",
    "    balance_sheet.to_csv(f\"{ticker}_balance_sheet.csv\")\n",
    "    qtr_balance_sheet.to_csv(f\"{ticker}_qtr_balance_sheet.csv\")\n",
    "    cashflow.to_csv(f\"{ticker}_cashflow.csv\")\n",
    "    qtr_cashflow.to_csv(f\"{ticker}_qtr_cashflow.csv\")\n",
    "    earnings.to_csv(f\"{ticker}_earnings.csv\")\n",
    "    upcoming_event.to_csv(f\"{ticker}_upcoming_events.csv\")\n",
    "    major_stake_holders.to_csv(f\"{ticker}_major_stake_holders.csv\")\n",
    "    institutional_holders.to_csv(f\"{ticker}_institutional_holders.csv\")\n"
   ]
  },
  {
   "cell_type": "code",
   "execution_count": null,
   "id": "a5a6a75c",
   "metadata": {},
   "outputs": [],
   "source": []
  },
  {
   "cell_type": "code",
   "execution_count": 53,
   "id": "e85fee85",
   "metadata": {},
   "outputs": [
    {
     "name": "stdout",
     "output_type": "stream",
     "text": [
      "Get info on stock: MSFT\n"
     ]
    }
   ],
   "source": [
    "ticker= input(\"Get info on stock: \")\n",
    "get_info_on_stock(ticker)"
   ]
  },
  {
   "cell_type": "code",
   "execution_count": null,
   "id": "4c07f5c9",
   "metadata": {},
   "outputs": [],
   "source": [
    "f1= pd.read_csv(f\"{ticker}_hist.csv\")\n",
    "f2= pd.read_csv(f\"{ticker}_action.csv\")\n",
    "f3= pd.read_csv(f\"{ticker}_dividend.csv\")\n",
    "f4= pd.read_csv(f\"{ticker}_financial.csv\")\n",
    "f5= pd.read_csv(f\"{ticker}_qtr_financials.csv\")\n",
    "f6= pd.read_csv(f\"{ticker}_major_stake_holders.csv\")\n",
    "f7= pd.read_csv(f\"{ticker}_institutional_holders.csv\")\n",
    "\n",
    "final_file = pd.concat([f1,f2,f3,f4,f5,f6,f7])\n",
    "final_file.to_csv(f\"{ticker}_final_file.csv\")"
   ]
  },
  {
   "cell_type": "code",
   "execution_count": null,
   "id": "47571306",
   "metadata": {},
   "outputs": [],
   "source": []
  },
  {
   "cell_type": "code",
   "execution_count": null,
   "id": "c1835d3b",
   "metadata": {},
   "outputs": [],
   "source": []
  },
  {
   "cell_type": "code",
   "execution_count": null,
   "id": "82f7f26b",
   "metadata": {},
   "outputs": [],
   "source": []
  },
  {
   "cell_type": "code",
   "execution_count": null,
   "id": "4b184b30",
   "metadata": {},
   "outputs": [],
   "source": []
  },
  {
   "cell_type": "code",
   "execution_count": null,
   "id": "70fa1071",
   "metadata": {},
   "outputs": [],
   "source": []
  },
  {
   "cell_type": "code",
   "execution_count": null,
   "id": "995e7c2a",
   "metadata": {},
   "outputs": [],
   "source": []
  }
 ],
 "metadata": {
  "kernelspec": {
   "display_name": "Python 3 (ipykernel)",
   "language": "python",
   "name": "python3"
  },
  "language_info": {
   "codemirror_mode": {
    "name": "ipython",
    "version": 3
   },
   "file_extension": ".py",
   "mimetype": "text/x-python",
   "name": "python",
   "nbconvert_exporter": "python",
   "pygments_lexer": "ipython3",
   "version": "3.9.12"
  }
 },
 "nbformat": 4,
 "nbformat_minor": 5
}
